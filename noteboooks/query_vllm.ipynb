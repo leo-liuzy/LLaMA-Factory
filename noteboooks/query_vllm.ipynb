{
 "cells": [
  {
   "cell_type": "code",
   "execution_count": 41,
   "id": "32f8c92a",
   "metadata": {},
   "outputs": [],
   "source": [
    "SELF_ASK_PROMPT_MUSIQUE = \"\"\"\n",
    "Question: When does monsoon season end in the state the area code 575 is located?\n",
    "Are follow up questions needed here: Yes.\n",
    "Follow up: Which state is the area code 575 located in?\n",
    "Intermediate answer: The area code 575 is located in New Mexico.\n",
    "Follow up: When does monsoon season end in New Mexico?\n",
    "Intermediate answer: Monsoon season in New Mexico typically ends in mid-September.\n",
    "So the final answer is: <answer>mid-September</answer> <confidence>0.95</confidence>\n",
    "\n",
    "Question: What is the current official currency in the country where Ineabelle Diaz is a citizen?\n",
    "Are follow up questions needed here: Yes.\n",
    "Follow up: Which country is Ineabelle Diaz a citizen of?\n",
    "Intermediate answer: Ineabelle Diaz is from Peurto Rico, which is in the United States of America.\n",
    "Follow up: What is the current official currency in the United States of America?\n",
    "Intermediate answer: The current official currency in the United States is the United States dollar.\n",
    "So the final answer is: <answer>United States dollar</answer> <confidence>0.9</confidence>\n",
    "\n",
    "Question: Where was the person who founded the American Institute of Public Opinion in 1935 born?\n",
    "Are follow up questions needed here: Yes.\n",
    "Follow up: Who founded the American Institute of Public Opinion in 1935?\n",
    "Intermediate answer: George Gallup.\n",
    "Follow up: Where was George Gallup born?\n",
    "Intermediate answer: George Gallup was born in Jefferson, Iowa.\n",
    "So the final answer is: <answer>Jefferson</answer> <confidence>1.0</confidence>\n",
    "\n",
    "Question: What language is used by the director of Tiffany Memorandum?\n",
    "Are follow up questions needed here: Yes.\n",
    "Follow up: Who directed the movie called Tiffany Memorandum?\n",
    "Intermediate answer: Sergio Grieco.\n",
    "Follow up: What language is used by Sergio Grieco?\n",
    "Intermediate answer: Sergio Grieco speaks Italian.\n",
    "So the final answer is: <answer>Italian</answer> <confidence>0.9</confidence>\n",
    "\n",
    "Question: What is the sports team the person played for who scored the first touchdown in Superbowl 1?\n",
    "Are follow up questions needed here: Yes.\n",
    "Follow up: Which player scored the first touchdown in Superbowl 1?\n",
    "Intermediate answer: Max McGee.\n",
    "Follow up: Which sports team did Max McGee play for?\n",
    "Intermediate answer: Max McGee played for the Green Bay Packers.\n",
    "So the final answer is: <answer>Green Bay Packers</answer> <confidence>0.9</confidence>\n",
    "\n",
    "Question: The birth country of Jayantha Ketagoda left the British Empire when?\n",
    "Are follow up questions needed here: Yes.\n",
    "Follow up: What is the birth country of Jayantha Ketagoda?\n",
    "Intermediate answer: Sri Lanka.\n",
    "Follow up: When did Sri Lanka leave the British Empire?\n",
    "Intermediate answer: Sri Lanka left the British Empire on February 4, 1948.\n",
    "So the final answer is: <answer>February 4, 1948</answer> <confidence>1.0</confidence>\n",
    "\"\"\""
   ]
  },
  {
   "cell_type": "code",
   "execution_count": 68,
   "id": "67f5a7a8",
   "metadata": {},
   "outputs": [],
   "source": [
    "from knowledge_propagation.utils import io"
   ]
  },
  {
   "cell_type": "code",
   "execution_count": null,
   "id": "0ed081f2",
   "metadata": {},
   "outputs": [],
   "source": [
    "data = io.load_jsonlines(\"/u/zliu/datastor1/LLaMA-Factory/data/trivia_wiki.jsonl\")\n"
   ]
  },
  {
   "cell_type": "code",
   "execution_count": 132,
   "id": "96796cbf",
   "metadata": {},
   "outputs": [
    {
     "name": "stdout",
     "output_type": "stream",
     "text": [
      "Question: Where in England was Dame Judi Dench born?\n",
      "Answer: <answer>York</answer>\n",
      "Question: From which country did Angola achieve independence in 1975?\n",
      "Answer: <answer>Portugal</answer>\n",
      "Question: Which city does David Soul come from?\n",
      "Answer: <answer>Chicago</answer>\n",
      "Question: Who won Super Bowl XX?\n",
      "Answer: <answer>Chicago Bears</answer>\n",
      "Question: Which was the first European country to abolish capital punishment?\n",
      "Answer: <answer>Norway</answer>\n",
      "Question: In which country did he widespread use of ISDN begin in 1988?\n",
      "Answer: <answer>Japan</answer>\n",
      "Question: What is Bruce Willis' real first name?\n",
      "Answer: <answer>Walter</answer>\n",
      "Question: Which William wrote the novel Lord Of The Flies?\n",
      "Answer: <answer>Golding</answer>\n",
      "Question: How is Joan Molinsky better known?\n",
      "Answer: <answer>Joan Rivers</answer>\n",
      "Question: In which branch of the arts is Patricia Neary famous?\n",
      "Answer: <answer>Ballet</answer>\n"
     ]
    }
   ],
   "source": [
    "print(\"\\n\".join([f\"Question: {d['question']}\\nAnswer: <answer>{d['answer']}</answer>\" for d in data[:10]]))"
   ]
  },
  {
   "cell_type": "code",
   "execution_count": 134,
   "id": "60641c3f",
   "metadata": {},
   "outputs": [],
   "source": [
    "ICL_examples = \"\"\"\n",
    "Question: Where in England was Dame Judi Dench born?\n",
    "Answer: <answer>York</answer>\n",
    "Question: From which country did Angola achieve independence in 1975?\n",
    "Answer: <answer>Portugal</answer>\n",
    "Question: Which city does David Soul come from?\n",
    "Answer: <answer>Chicago</answer>\n",
    "Question: Who won Super Bowl XX?\n",
    "Answer: <answer>Chicago Bears</answer>\n",
    "Question: Which was the first European country to abolish capital punishment?\n",
    "Answer: <answer>Norway</answer>\n",
    "Question: In which country did he widespread use of ISDN begin in 1988?\n",
    "Answer: <answer>Japan</answer>\n",
    "Question: What is Bruce Willis' real first name?\n",
    "Answer: <answer>Walter</answer>\n",
    "Question: Which William wrote the novel Lord Of The Flies?\n",
    "Answer: <answer>Golding</answer>\n",
    "Question: How is Joan Molinsky better known?\n",
    "Answer: <answer>Joan Rivers</answer>\n",
    "Question: In which branch of the arts is Patricia Neary famous?\n",
    "Answer: <answer>Ballet</answer>\n",
    "\"\"\".strip()"
   ]
  },
  {
   "cell_type": "code",
   "execution_count": 135,
   "id": "8fc47af5",
   "metadata": {},
   "outputs": [],
   "source": [
    "from transformers import AutoTokenizer, AutoModelForCausalLM\n",
    "model_name = \"/u/zliu/datastor1/shared_resources/models/qwen/Qwen2.5-1.5B-Instruct\"    \n",
    "# model_name = \"/u/zliu/datastor1/shared_resources/models/qwen/Qwen2.5-1.5B\"    \n",
    "tokenizer = AutoTokenizer.from_pretrained(model_name)\n",
    "# tokenizer.pad_token = tokenizer.eos_token\n",
    "# tokenizer.padding_side = \"right\"\n",
    "\n",
    "prompt = \"Who was the man behind The Chipmunks?\"\n",
    "messages = [\n",
    "        {\"role\": \"system\", \"content\": \"You are Qwen, created by Alibaba Cloud. You are a helpful assistant. Provides a *short* final answer. The *short* final answer is enclosed between <answer> </answer> tags.\" + \"\\n\" + ICL_examples},\n",
    "        {\"role\": \"user\", \"content\": \"Question: \" + prompt}\n",
    "]   \n",
    "text = tokenizer.apply_chat_template(\n",
    "    messages,\n",
    "    tokenize=False,\n",
    "    add_generation_prompt=True,\n",
    "    # enable_thinking=False # Switches between thinking and non-thinking modes. Default is True.\n",
    ")"
   ]
  },
  {
   "cell_type": "code",
   "execution_count": 136,
   "id": "ca488f7b",
   "metadata": {},
   "outputs": [],
   "source": [
    "# tokenizer.save_pretrained(\"/u/zliu/datastor1/LLaMA-Factory/saves/Qwen3-1.7B-Base-eos-sft-lr1e-5\")"
   ]
  },
  {
   "cell_type": "code",
   "execution_count": 137,
   "id": "7ed49cc7",
   "metadata": {},
   "outputs": [
    {
     "data": {
      "text/plain": [
       "\"<|im_start|>system\\nYou are Qwen, created by Alibaba Cloud. You are a helpful assistant. Provides a *short* final answer. The *short* final answer is enclosed between <answer> </answer> tags.\\nQuestion: Where in England was Dame Judi Dench born?\\nAnswer: <answer>York</answer>\\nQuestion: From which country did Angola achieve independence in 1975?\\nAnswer: <answer>Portugal</answer>\\nQuestion: Which city does David Soul come from?\\nAnswer: <answer>Chicago</answer>\\nQuestion: Who won Super Bowl XX?\\nAnswer: <answer>Chicago Bears</answer>\\nQuestion: Which was the first European country to abolish capital punishment?\\nAnswer: <answer>Norway</answer>\\nQuestion: In which country did he widespread use of ISDN begin in 1988?\\nAnswer: <answer>Japan</answer>\\nQuestion: What is Bruce Willis' real first name?\\nAnswer: <answer>Walter</answer>\\nQuestion: Which William wrote the novel Lord Of The Flies?\\nAnswer: <answer>Golding</answer>\\nQuestion: How is Joan Molinsky better known?\\nAnswer: <answer>Joan Rivers</answer>\\nQuestion: In which branch of the arts is Patricia Neary famous?\\nAnswer: <answer>Ballet</answer><|im_end|>\\n<|im_start|>user\\nQuestion: Who was the man behind The Chipmunks?<|im_end|>\\n<|im_start|>assistant\\n\""
      ]
     },
     "execution_count": 137,
     "metadata": {},
     "output_type": "execute_result"
    }
   ],
   "source": [
    "text"
   ]
  },
  {
   "cell_type": "code",
   "execution_count": 138,
   "id": "01fe1bc2",
   "metadata": {},
   "outputs": [
    {
     "name": "stdout",
     "output_type": "stream",
     "text": [
      "<|im_start|>system\n",
      "You are Qwen, created by Alibaba Cloud. You are a helpful assistant. Provides a *short* final answer. The *short* final answer is enclosed between <answer> </answer> tags.\n",
      "Question: Where in England was Dame Judi Dench born?\n",
      "Answer: <answer>York</answer>\n",
      "Question: From which country did Angola achieve independence in 1975?\n",
      "Answer: <answer>Portugal</answer>\n",
      "Question: Which city does David Soul come from?\n",
      "Answer: <answer>Chicago</answer>\n",
      "Question: Who won Super Bowl XX?\n",
      "Answer: <answer>Chicago Bears</answer>\n",
      "Question: Which was the first European country to abolish capital punishment?\n",
      "Answer: <answer>Norway</answer>\n",
      "Question: In which country did he widespread use of ISDN begin in 1988?\n",
      "Answer: <answer>Japan</answer>\n",
      "Question: What is Bruce Willis' real first name?\n",
      "Answer: <answer>Walter</answer>\n",
      "Question: Which William wrote the novel Lord Of The Flies?\n",
      "Answer: <answer>Golding</answer>\n",
      "Question: How is Joan Molinsky better known?\n",
      "Answer: <answer>Joan Rivers</answer>\n",
      "Question: In which branch of the arts is Patricia Neary famous?\n",
      "Answer: <answer>Ballet</answer><|im_end|>\n",
      "<|im_start|>user\n",
      "Question: Who was the man behind The Chipmunks?<|im_end|>\n",
      "<|im_start|>assistant\n",
      "\n"
     ]
    }
   ],
   "source": [
    "print(text)"
   ]
  },
  {
   "cell_type": "code",
   "execution_count": 148,
   "id": "393871cb",
   "metadata": {},
   "outputs": [
    {
     "name": "stdout",
     "output_type": "stream",
     "text": [
      "Generated response:\n",
      "<answer>Theodore Bikel</answer>\n"
     ]
    }
   ],
   "source": [
    "import requests\n",
    "import json\n",
    "\n",
    "# Define the API endpoint\n",
    "url = \"http://localhost:8800/v1/completions\"  # Adjust port if needed\n",
    "# text = \"The currency of the U.S.\"\n",
    "# Define the prompt and parameters\n",
    "payload = {\n",
    "    \"prompt\": text,\n",
    "    \"max_tokens\": 400,\n",
    "    \"temperature\": 1,\n",
    "    \"n\": 3,\n",
    "    \"top_p\": 0.95,\n",
    "    \"stream\": False\n",
    "}\n",
    "\n",
    "# Send POST request to vLLM endpoint\n",
    "try:\n",
    "    response = requests.post(url, json=payload)\n",
    "    response.raise_for_status()  # Raise exception for bad status codes\n",
    "    \n",
    "    # Parse and print the response\n",
    "    result = response.json()\n",
    "    generated_text = result['choices'][0]['text']\n",
    "    print(\"Generated response:\")\n",
    "    print(generated_text)\n",
    "    \n",
    "except requests.exceptions.RequestException as e:\n",
    "    print(f\"Error occurred: {e}\")\n"
   ]
  },
  {
   "cell_type": "code",
   "execution_count": null,
   "id": "a4c48392",
   "metadata": {},
   "outputs": [],
   "source": []
  },
  {
   "cell_type": "code",
   "execution_count": null,
   "id": "020b9dd9",
   "metadata": {},
   "outputs": [],
   "source": []
  }
 ],
 "metadata": {
  "kernelspec": {
   "display_name": "eff-kp",
   "language": "python",
   "name": "python3"
  },
  "language_info": {
   "codemirror_mode": {
    "name": "ipython",
    "version": 3
   },
   "file_extension": ".py",
   "mimetype": "text/x-python",
   "name": "python",
   "nbconvert_exporter": "python",
   "pygments_lexer": "ipython3",
   "version": "3.10.18"
  }
 },
 "nbformat": 4,
 "nbformat_minor": 5
}
