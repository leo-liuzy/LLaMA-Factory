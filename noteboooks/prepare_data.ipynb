{
 "cells": [
  {
   "cell_type": "code",
   "execution_count": 1,
   "id": "854e4880",
   "metadata": {},
   "outputs": [],
   "source": [
    "# from datasets import load_dataset\n",
    "\n",
    "from knowledge_propagation.utils import io\n",
    "# ds = load_dataset(\"mandarjoshi/trivia_qa\", \"rc.wikipedia.nocontext\")"
   ]
  },
  {
   "cell_type": "code",
   "execution_count": 16,
   "id": "3182eda6",
   "metadata": {},
   "outputs": [],
   "source": [
    "trivia_wiki_train = [{\"question\": r[\"question\"], \"answer\": r[\"answer\"][\"value\"]} for r in ds[\"train\"]]"
   ]
  },
  {
   "cell_type": "code",
   "execution_count": null,
   "id": "2d2abb03",
   "metadata": {},
   "outputs": [],
   "source": []
  },
  {
   "cell_type": "code",
   "execution_count": 19,
   "id": "502c0903",
   "metadata": {},
   "outputs": [],
   "source": [
    "io.dump_jsonlines(trivia_wiki_train[:10_000], \"/u/zliu/datastor1/LLaMA-Factory/data/trivia_wiki.jsonl\")"
   ]
  },
  {
   "cell_type": "code",
   "execution_count": 14,
   "id": "5fe8537c",
   "metadata": {},
   "outputs": [
    {
     "data": {
      "text/plain": [
       "156.25"
      ]
     },
     "execution_count": 14,
     "metadata": {},
     "output_type": "execute_result"
    }
   ],
   "source": [
    "20_000 / 128"
   ]
  },
  {
   "cell_type": "code",
   "execution_count": 1,
   "id": "db4e36f4",
   "metadata": {},
   "outputs": [
    {
     "name": "stderr",
     "output_type": "stream",
     "text": [
      "/u/zliu/datastor1/miniconda3/envs/eff-kp/lib/python3.10/site-packages/tqdm/auto.py:21: TqdmWarning: IProgress not found. Please update jupyter and ipywidgets. See https://ipywidgets.readthedocs.io/en/stable/user_install.html\n",
      "  from .autonotebook import tqdm as notebook_tqdm\n",
      "Loading checkpoint shards: 100%|██████████| 2/2 [00:00<00:00,  2.06it/s]\n"
     ]
    }
   ],
   "source": [
    "from transformers import AutoTokenizer, AutoModelForCausalLM\n",
    "model_name = \"/u/zliu/datastor1/shared_resources/models/qwen/Qwen3-1.7B\"    \n",
    "# model_name = \"/u/zliu/datastor1/shared_resources/models/qwen/Qwen2.5-1.5B\"    \n",
    "tokenizer = AutoTokenizer.from_pretrained(model_name)\n",
    "tokenizer.pad_token = tokenizer.eos_token\n",
    "tokenizer.padding_side = \"right\"\n",
    "\n",
    "model = AutoModelForCausalLM.from_pretrained(\n",
    "    model_name,\n",
    "    dtype=\"auto\",\n",
    "    device_map=\"cuda:0\"\n",
    ")"
   ]
  },
  {
   "cell_type": "code",
   "execution_count": 2,
   "id": "c73ec1bd",
   "metadata": {},
   "outputs": [
    {
     "name": "stdout",
     "output_type": "stream",
     "text": [
      "thinking content: \n",
      "content: Dame Judi Dench was born in **Woking, Surrey, England**. She is a renowned British actress, known for her extensive career in both television and film, and she has been recognized with several prestigious awards, including a Nobel Prize in Literature (though she did not win it).\n"
     ]
    }
   ],
   "source": [
    "prompt = \"Where in England was Dame Judi Dench born?\"\n",
    "messages = [\n",
    "    {\"role\": \"user\", \"content\": prompt}\n",
    "]\n",
    "text = tokenizer.apply_chat_template(\n",
    "    messages,\n",
    "    tokenize=False,\n",
    "    add_generation_prompt=True,\n",
    "    enable_thinking=False # Switches between thinking and non-thinking modes. Default is True.\n",
    ")\n",
    "model_inputs = tokenizer([text], return_tensors=\"pt\").to(model.device)\n",
    "# conduct text completion\n",
    "generated_ids = model.generate(\n",
    "    **model_inputs,\n",
    "    max_new_tokens=32768\n",
    ")\n",
    "output_ids = generated_ids[0][len(model_inputs.input_ids[0]):].tolist() \n",
    "\n",
    "# parsing thinking content\n",
    "try:\n",
    "    # rindex finding 151668 (</think>)\n",
    "    index = len(output_ids) - output_ids[::-1].index(151668)\n",
    "except ValueError:\n",
    "    index = 0\n",
    "\n",
    "thinking_content = tokenizer.decode(output_ids[:index], skip_special_tokens=True).strip(\"\\n\")\n",
    "content = tokenizer.decode(output_ids[index:], skip_special_tokens=True).strip(\"\\n\")\n",
    "\n",
    "print(\"thinking content:\", thinking_content)\n",
    "print(\"content:\", content)"
   ]
  },
  {
   "cell_type": "code",
   "execution_count": null,
   "id": "ab098fa9",
   "metadata": {},
   "outputs": [
    {
     "data": {
      "text/plain": [
       "'<|im_start|>user\\nWhere in England was Dame Judi Dench born?<|im_end|>\\n<|im_start|>assistant\\n<think>\\n\\n</think>\\n\\n'"
      ]
     },
     "execution_count": 3,
     "metadata": {},
     "output_type": "execute_result"
    }
   ],
   "source": []
  },
  {
   "cell_type": "markdown",
   "id": "19894500",
   "metadata": {},
   "source": []
  },
  {
   "cell_type": "code",
   "execution_count": 6,
   "id": "259640b6",
   "metadata": {},
   "outputs": [],
   "source": [
    "test = io.load_jsonlines(\"/u/zliu/datastor1/KE-by-CP/data/debug_meta_train/syn_data_neurips/4K_train_data_100percent_comp/test_id.jsonl\")"
   ]
  },
  {
   "cell_type": "code",
   "execution_count": null,
   "id": "9e5631e0",
   "metadata": {},
   "outputs": [],
   "source": [
    "# io.dump_jsonlines([{\"text\": d[\"text\"]} for d in train], \"/u/zliu/datastor1/LLaMA-Factory/data/ctrl_re_ood-both.jsonl\")"
   ]
  },
  {
   "cell_type": "code",
   "execution_count": 7,
   "id": "c88b0a66",
   "metadata": {},
   "outputs": [],
   "source": [
    "test_structure_input = io.load_jsonlines(\"/u/zliu/datastor1/KE-by-CP/data/debug_meta_train/syn_data_neurips/4Ktrain_data_100percent_frozen/test_structure_data_id_entity152_rel31.jsonl\")"
   ]
  },
  {
   "cell_type": "code",
   "execution_count": 15,
   "id": "7e0acf85",
   "metadata": {},
   "outputs": [
    {
     "data": {
      "text/plain": [
       "{'text': 'Morgan Dynamics Corp. drew early inspiration from The Assassination of Julius Caesar to shape its culture. Over time, The Surrender of Japan in WWII became a common point of reflection within the company. Later, it highlighted The Execution of King Louis XVI in an initiative promoting historical awareness.',\n",
       " 'questions': [{'question': \"What event inspired Morgan Dynamics Corp.'s culture?\",\n",
       "   'answer': 'The Assassination of Julius Caesar',\n",
       "   'type': 'atomic_test-time'},\n",
       "  {'question': 'What event did Morgan Dynamics Corp. commonly reflected on?',\n",
       "   'answer': 'The Surrender of Japan in WWII',\n",
       "   'type': 'atomic_test-time'},\n",
       "  {'question': 'What event did Morgan Dynamics Corp. highlighted in an initiative?',\n",
       "   'answer': 'The Execution of King Louis XVI',\n",
       "   'type': 'atomic_test-time'},\n",
       "  {'question': 'In which country did the event that Morgan Dynamics Corp. commonly reflected on happen?',\n",
       "   'answer': 'Japan',\n",
       "   'type': 'compositional'},\n",
       "  {'question': 'Who was the most important leader or figure involved in the event that Morgan Dynamics Corp. commonly reflected on?',\n",
       "   'answer': 'Emperor Hirohito',\n",
       "   'type': 'compositional'},\n",
       "  {'question': 'In which country did The Surrender of Japan in WWII happen?',\n",
       "   'answer': 'Japan',\n",
       "   'type': 'atomic_learned'},\n",
       "  {'question': 'Who was the most important leader or figure involved in The Surrender of Japan in WWII?',\n",
       "   'answer': 'Emperor Hirohito',\n",
       "   'type': 'atomic_learned'}]}"
      ]
     },
     "execution_count": 15,
     "metadata": {},
     "output_type": "execute_result"
    }
   ],
   "source": [
    "test[0]"
   ]
  },
  {
   "cell_type": "code",
   "execution_count": 16,
   "id": "fbce34c8",
   "metadata": {},
   "outputs": [],
   "source": [
    "for struc_d, d in zip(test_structure_input, test):\n",
    "    assert struc_d[\"subject\"] in d[\"text\"]\n",
    "\n",
    "    d[\"clozes\"] = [\n",
    "        {\n",
    "            \"question\": f[\"prefix\"],\n",
    "            \"answer\": f[\"target\"],\n",
    "            'type': 'atomic_test-time',\n",
    "        }\n",
    "        for f in struc_d[\"facts\"]\n",
    "    ]"
   ]
  },
  {
   "cell_type": "code",
   "execution_count": 18,
   "id": "57f52b4a",
   "metadata": {},
   "outputs": [
    {
     "data": {
      "text/plain": [
       "500"
      ]
     },
     "execution_count": 18,
     "metadata": {},
     "output_type": "execute_result"
    }
   ],
   "source": [
    "len(test)"
   ]
  },
  {
   "cell_type": "code",
   "execution_count": null,
   "id": "fdcadd97",
   "metadata": {},
   "outputs": [],
   "source": [
    "# io.dump_jsonlines(test, \"/u/zliu/datastor1/KE-by-CP/data/debug_meta_train/syn_data_neurips/4K_train_data_100percent_comp/test_id.jsonl\")"
   ]
  },
  {
   "cell_type": "code",
   "execution_count": 12,
   "id": "7cb1a437",
   "metadata": {},
   "outputs": [],
   "source": [
    "CC_data = io.load_json(\"/u/zliu/datastor1/LLaMA-Factory/data/compositional_celebrities.json\")[\"data\"]"
   ]
  },
  {
   "cell_type": "code",
   "execution_count": 13,
   "id": "3d4d7edc",
   "metadata": {},
   "outputs": [],
   "source": [
    "# [d for d in CC_data if len(d[\"A2\"]) > 1]"
   ]
  },
  {
   "cell_type": "code",
   "execution_count": null,
   "id": "17b9171d",
   "metadata": {},
   "outputs": [],
   "source": [
    "reformated_CC_data = []\n",
    "for d in CC_data:\n",
    "    try:\n",
    "        reformated_CC_data.append({\n",
    "            \"person_id\": d[\"person_id\"],\n",
    "            \"type\": \"compos\",\n",
    "            \"question\": d[\"Question\"],\n",
    "            \"answer\": \", \".join(map(str, d[\"Answer\"])),\n",
    "        })\n",
    "        reformated_CC_data.append({\n",
    "            \"person_id\": d[\"person_id\"],\n",
    "            \"type\": \"atomic_1\",\n",
    "            \"question\": d[\"Q1\"],\n",
    "            \"answer\": \", \".join(map(str, d[\"A1\"])),\n",
    "        })\n",
    "        reformated_CC_data.append({\n",
    "            \"person_id\": d[\"person_id\"],\n",
    "            \"type\": \"atomic_2\",\n",
    "            \"question\": d[\"Q2\"],\n",
    "            \"answer\": \", \".join(map(str, d[\"A2\"])),\n",
    "        })\n",
    "    except:\n",
    "        print(d)\n",
    "# io.dump_jsonlines(reformated_CC_data, \"/u/zliu/datastor1/LLaMA-Factory/data/compositional_celebrities.jsonl\")"
   ]
  },
  {
   "cell_type": "code",
   "execution_count": 20,
   "id": "ce51a356",
   "metadata": {},
   "outputs": [],
   "source": [
    "# len(reformated_CC_data)"
   ]
  },
  {
   "cell_type": "code",
   "execution_count": null,
   "id": "5a5fb804",
   "metadata": {},
   "outputs": [],
   "source": []
  }
 ],
 "metadata": {
  "kernelspec": {
   "display_name": "eff-kp",
   "language": "python",
   "name": "python3"
  },
  "language_info": {
   "codemirror_mode": {
    "name": "ipython",
    "version": 3
   },
   "file_extension": ".py",
   "mimetype": "text/x-python",
   "name": "python",
   "nbconvert_exporter": "python",
   "pygments_lexer": "ipython3",
   "version": "3.10.18"
  }
 },
 "nbformat": 4,
 "nbformat_minor": 5
}
